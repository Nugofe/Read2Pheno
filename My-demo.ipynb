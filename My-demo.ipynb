{
 "cells": [
  {
   "cell_type": "code",
   "execution_count": 1,
   "metadata": {
    "scrolled": true
   },
   "outputs": [
    {
     "name": "stderr",
     "output_type": "stream",
     "text": [
      "Using TensorFlow backend.\n",
      "/home/nuria/.local/share/virtualenvs/Read2Pheno-YfFcwwiN/lib/python3.5/site-packages/tensorflow/python/framework/dtypes.py:523: FutureWarning: Passing (type, 1) or '1type' as a synonym of type is deprecated; in a future version of numpy, it will be understood as (type, (1,)) / '(1,)type'.\n",
      "  _np_qint8 = np.dtype([(\"qint8\", np.int8, 1)])\n",
      "/home/nuria/.local/share/virtualenvs/Read2Pheno-YfFcwwiN/lib/python3.5/site-packages/tensorflow/python/framework/dtypes.py:524: FutureWarning: Passing (type, 1) or '1type' as a synonym of type is deprecated; in a future version of numpy, it will be understood as (type, (1,)) / '(1,)type'.\n",
      "  _np_quint8 = np.dtype([(\"quint8\", np.uint8, 1)])\n",
      "/home/nuria/.local/share/virtualenvs/Read2Pheno-YfFcwwiN/lib/python3.5/site-packages/tensorflow/python/framework/dtypes.py:525: FutureWarning: Passing (type, 1) or '1type' as a synonym of type is deprecated; in a future version of numpy, it will be understood as (type, (1,)) / '(1,)type'.\n",
      "  _np_qint16 = np.dtype([(\"qint16\", np.int16, 1)])\n",
      "/home/nuria/.local/share/virtualenvs/Read2Pheno-YfFcwwiN/lib/python3.5/site-packages/tensorflow/python/framework/dtypes.py:526: FutureWarning: Passing (type, 1) or '1type' as a synonym of type is deprecated; in a future version of numpy, it will be understood as (type, (1,)) / '(1,)type'.\n",
      "  _np_quint16 = np.dtype([(\"quint16\", np.uint16, 1)])\n",
      "/home/nuria/.local/share/virtualenvs/Read2Pheno-YfFcwwiN/lib/python3.5/site-packages/tensorflow/python/framework/dtypes.py:527: FutureWarning: Passing (type, 1) or '1type' as a synonym of type is deprecated; in a future version of numpy, it will be understood as (type, (1,)) / '(1,)type'.\n",
      "  _np_qint32 = np.dtype([(\"qint32\", np.int32, 1)])\n",
      "/home/nuria/.local/share/virtualenvs/Read2Pheno-YfFcwwiN/lib/python3.5/site-packages/tensorflow/python/framework/dtypes.py:532: FutureWarning: Passing (type, 1) or '1type' as a synonym of type is deprecated; in a future version of numpy, it will be understood as (type, (1,)) / '(1,)type'.\n",
      "  np_resource = np.dtype([(\"resource\", np.ubyte, 1)])\n"
     ]
    }
   ],
   "source": [
    "import pickle\n",
    "import keras\n",
    "import numpy as np\n",
    "import tensorflow as tf\n",
    "from sequence_attention import DataGeneratorPickle, SeqAttModel\n",
    "from sequence_attention.utils import preprocess_data_pickle, select_data_pickle \n",
    "from sequence_attention.SeqVisualUnit import create_mat_plot\n",
    "from config import Config"
   ]
  },
  {
   "cell_type": "markdown",
   "metadata": {},
   "source": [
    "### Preprocess the data\n",
    "\n",
    "There are three different ways to prepare the data: \n",
    "\n",
    "2. convert each fna file to a pickle file with a python dictionary data structure (key is the unique sequence identifier and value is the actual sequence). Then the data generator can load a pickle file and look up for a read and construct a batch of data.\n",
    "3. The fastest way is, of course, training and testing your model without using the data generator. Instead, permitted by the computer memory, users can load all the training data in memory and directly fit the model. In this way, there will be no additional I/O process. \n",
    "\n",
    "When designing this tool, we don't make any assumption on the computer memory at the user's disposal, therefore, this demo focuses on the second preprocessing method since it covers the most use cases. But if the users do have enough memory, they are more than welcome to fit the model without the generator function."
   ]
  },
  {
   "cell_type": "code",
   "execution_count": 2,
   "metadata": {},
   "outputs": [],
   "source": [
    "opt = Config() # cargar configuración"
   ]
  },
  {
   "cell_type": "code",
   "execution_count": 3,
   "metadata": {},
   "outputs": [
    {
     "name": "stderr",
     "output_type": "stream",
     "text": [
      "08-Jun-22 16:49:21 - Processing raw data: 0.0% completed.\n",
      "08-Jun-22 16:49:21 - Processing raw data: 10.0% completed.\n",
      "08-Jun-22 16:49:21 - Processing raw data: 20.0% completed.\n",
      "08-Jun-22 16:49:21 - Processing raw data: 30.0% completed.\n",
      "08-Jun-22 16:49:21 - Processing raw data: 40.0% completed.\n",
      "08-Jun-22 16:49:21 - Processing raw data: 50.0% completed.\n",
      "08-Jun-22 16:49:22 - Processing raw data: 60.0% completed.\n",
      "08-Jun-22 16:49:22 - Processing raw data: 70.0% completed.\n",
      "08-Jun-22 16:49:22 - Processing raw data: 80.0% completed.\n",
      "08-Jun-22 16:49:22 - Processing raw data: 90.0% completed.\n",
      "08-Jun-22 16:49:22 - Processing raw data: 100.0% completed.\n",
      "08-Jun-22 16:49:22 - Processing raw data: 110.0% completed.\n"
     ]
    }
   ],
   "source": [
    "# segunda técnica de pre-procesado\n",
    "preprocess_data_pickle(opt) # obtener los pickle de CD y Not-CD, label_dict, sample_to_label y read_meta_data"
   ]
  },
  {
   "cell_type": "code",
   "execution_count": 3,
   "metadata": {},
   "outputs": [
    {
     "name": "stdout",
     "output_type": "stream",
     "text": [
      "sequence_list   done\n",
      "sequence_list_selected   done\n"
     ]
    }
   ],
   "source": [
    "select_data_pickle(opt) # obtener sequence_list y sequence_list_selected"
   ]
  },
  {
   "cell_type": "markdown",
   "metadata": {},
   "source": [
    "### Load metadata and initialize the deep learning model"
   ]
  },
  {
   "cell_type": "code",
   "execution_count": 4,
   "metadata": {},
   "outputs": [
    {
     "name": "stderr",
     "output_type": "stream",
     "text": [
      "09-Jun-22 12:43:12 - Model initialized.\n"
     ]
    }
   ],
   "source": [
    "import pickle\n",
    "\n",
    "# cargar os pickle cos datos pre-procesados no paso anterior\n",
    "label_dict = pickle.load(open('{}/label_dict.pkl'.format(opt.out_dir), 'rb'))\n",
    "sample_to_label, read_meta_data = pickle.load(open('{}/meta_data.pkl'.format(opt.out_dir), 'rb'))\n",
    "#sequence_list = pickle.load(open('{}/sequence_list.pkl'.format(opt.out_dir), 'rb'))\n",
    "sequence_list = pickle.load(open('{}/sequence_list_selected.pkl'.format(opt.out_dir), 'rb'))\n",
    "\n",
    "# crear o modelo\n",
    "seq_att_model = SeqAttModel(opt)"
   ]
  },
  {
   "cell_type": "code",
   "execution_count": 5,
   "metadata": {},
   "outputs": [
    {
     "data": {
      "text/plain": [
       "{'CD': 0, 'Not-CD': 1}"
      ]
     },
     "execution_count": 5,
     "metadata": {},
     "output_type": "execute_result"
    }
   ],
   "source": [
    "label_dict # encoded labels"
   ]
  },
  {
   "cell_type": "code",
   "execution_count": 6,
   "metadata": {},
   "outputs": [
    {
     "data": {
      "text/plain": [
       "1359"
      ]
     },
     "execution_count": 6,
     "metadata": {},
     "output_type": "execute_result"
    }
   ],
   "source": [
    "#sample_to_label # basicamente meta_data.csv\n",
    "len(sample_to_label)"
   ]
  },
  {
   "cell_type": "code",
   "execution_count": 7,
   "metadata": {},
   "outputs": [
    {
     "data": {
      "text/plain": [
       "1359"
      ]
     },
     "execution_count": 7,
     "metadata": {},
     "output_type": "execute_result"
    }
   ],
   "source": [
    "#read_meta_data # dict cos ids das secuencias de cada mostra (id mostra: [ids secuencias da mostra])\n",
    "list(read_meta_data.keys())[0]   # primeira mostra\n",
    "#list(read_meta_data.values())[0] # secuencias da primeira mostra"
   ]
  },
  {
   "cell_type": "code",
   "execution_count": 5,
   "metadata": {
    "scrolled": true
   },
   "outputs": [
    {
     "name": "stdout",
     "output_type": "stream",
     "text": [
      "len(num_samples) : 40\n",
      "Counter({'../crohns_disease/results/CNNclassifier/CD/ERR1369779.pkl': 500, '../crohns_disease/results/CNNclassifier/Not-CD/ERR1369439.pkl': 500, '../crohns_disease/results/CNNclassifier/Not-CD/ERR1368923.pkl': 500, '../crohns_disease/results/CNNclassifier/CD/ERR1369717.pkl': 500, '../crohns_disease/results/CNNclassifier/CD/ERR1369834.pkl': 500, '../crohns_disease/results/CNNclassifier/CD/ERR1369302.pkl': 500, '../crohns_disease/results/CNNclassifier/CD/ERR1369859.pkl': 500, '../crohns_disease/results/CNNclassifier/CD/ERR1370174.pkl': 500, '../crohns_disease/results/CNNclassifier/CD/ERR1369149.pkl': 500, '../crohns_disease/results/CNNclassifier/CD/ERR1370149.pkl': 500, '../crohns_disease/results/CNNclassifier/Not-CD/ERR1369665.pkl': 500, '../crohns_disease/results/CNNclassifier/Not-CD/ERR1368961.pkl': 500, '../crohns_disease/results/CNNclassifier/CD/ERR1370073.pkl': 500, '../crohns_disease/results/CNNclassifier/Not-CD/ERR1369412.pkl': 500, '../crohns_disease/results/CNNclassifier/CD/ERR1370220.pkl': 500, '../crohns_disease/results/CNNclassifier/Not-CD/ERR1369339.pkl': 500, '../crohns_disease/results/CNNclassifier/Not-CD/ERR1369868.pkl': 500, '../crohns_disease/results/CNNclassifier/CD/ERR1369395.pkl': 500, '../crohns_disease/results/CNNclassifier/Not-CD/ERR1369607.pkl': 500, '../crohns_disease/results/CNNclassifier/Not-CD/ERR1369927.pkl': 500, '../crohns_disease/results/CNNclassifier/CD/ERR1370167.pkl': 500, '../crohns_disease/results/CNNclassifier/Not-CD/ERR1369304.pkl': 500, '../crohns_disease/results/CNNclassifier/Not-CD/ERR1370043.pkl': 500, '../crohns_disease/results/CNNclassifier/Not-CD/ERR1369323.pkl': 500, '../crohns_disease/results/CNNclassifier/Not-CD/ERR1370155.pkl': 500, '../crohns_disease/results/CNNclassifier/CD/ERR1369416.pkl': 500, '../crohns_disease/results/CNNclassifier/CD/ERR1369704.pkl': 500, '../crohns_disease/results/CNNclassifier/CD/ERR1369874.pkl': 500, '../crohns_disease/results/CNNclassifier/Not-CD/ERR1369109.pkl': 500, '../crohns_disease/results/CNNclassifier/Not-CD/ERR1369914.pkl': 500, '../crohns_disease/results/CNNclassifier/Not-CD/ERR1370205.pkl': 500, '../crohns_disease/results/CNNclassifier/CD/ERR1369536.pkl': 500, '../crohns_disease/results/CNNclassifier/CD/ERR1369596.pkl': 500, '../crohns_disease/results/CNNclassifier/Not-CD/ERR1369669.pkl': 500, '../crohns_disease/results/CNNclassifier/Not-CD/ERR1368921.pkl': 500, '../crohns_disease/results/CNNclassifier/CD/ERR1369156.pkl': 500, '../crohns_disease/results/CNNclassifier/Not-CD/ERR1369419.pkl': 500, '../crohns_disease/results/CNNclassifier/CD/ERR1368934.pkl': 500, '../crohns_disease/results/CNNclassifier/CD/ERR1369228.pkl': 500, '../crohns_disease/results/CNNclassifier/Not-CD/ERR1368998.pkl': 4})\n"
     ]
    }
   ],
   "source": [
    "#sequence_list[0:20] # secuencias das mostras (.pickle da mostra, identificador da secuencia)\n",
    "\n",
    "from collections import Counter\n",
    "num_samples = Counter([x for (x,y) in sequence_list])\n",
    "\n",
    "print(\"len(num_samples) : \" + str(len(num_samples)))\n",
    "print(num_samples)"
   ]
  },
  {
   "cell_type": "code",
   "execution_count": null,
   "metadata": {},
   "outputs": [],
   "source": [
    "# mostra en formato .pickle (identificador da secuencia, secuencia sen codificar)\n",
    "sample_pickle = pickle.load(open('../crohns_disease/results/CNNclassifier/Not-CD/ERR1368889.pkl'.format(opt.out_dir), 'rb'))\n",
    "sample_pickle"
   ]
  },
  {
   "cell_type": "code",
   "execution_count": null,
   "metadata": {},
   "outputs": [],
   "source": [
    "seq_att_model.model.summary() "
   ]
  },
  {
   "cell_type": "markdown",
   "metadata": {},
   "source": [
    "### Prepare the data generator for training and testing"
   ]
  },
  {
   "cell_type": "code",
   "execution_count": 6,
   "metadata": {},
   "outputs": [],
   "source": [
    "generator = DataGeneratorPickle(sequence_list, sample_to_label, label_dict, \n",
    "                                   dim=(opt.SEQLEN,opt.BASENUM), batch_size=opt.batch_size, shuffle=opt.shuffle)"
   ]
  },
  {
   "cell_type": "code",
   "execution_count": 7,
   "metadata": {},
   "outputs": [],
   "source": [
    "X, y = generator.getalldata() # X = secuencias one-hot encoded, y = labels encoded"
   ]
  },
  {
   "cell_type": "code",
   "execution_count": 8,
   "metadata": {},
   "outputs": [
    {
     "data": {
      "text/plain": [
       "(19504, 100, 4)"
      ]
     },
     "execution_count": 8,
     "metadata": {},
     "output_type": "execute_result"
    }
   ],
   "source": [
    "#X\n",
    "X.shape  # 500*39+4 reads, 100 sequence len, 4 bases"
   ]
  },
  {
   "cell_type": "code",
   "execution_count": 9,
   "metadata": {},
   "outputs": [
    {
     "data": {
      "text/plain": [
       "(19504,)"
      ]
     },
     "execution_count": 9,
     "metadata": {},
     "output_type": "execute_result"
    }
   ],
   "source": [
    "#y\n",
    "y.shape # 500*39+4"
   ]
  },
  {
   "cell_type": "markdown",
   "metadata": {},
   "source": [
    "### Train and evaluate the model with Cross Validation"
   ]
  },
  {
   "cell_type": "code",
   "execution_count": 10,
   "metadata": {},
   "outputs": [
    {
     "name": "stdout",
     "output_type": "stream",
     "text": [
      "\n",
      " Evaluation on a new fold is now get started ..\n",
      "Train on 17553 samples, validate on 1951 samples\n",
      "Epoch 1/10\n",
      "17553/17553 [==============================] - 461s 26ms/step - loss: 0.6745 - val_loss: 0.6442\n",
      "Epoch 2/10\n",
      "17553/17553 [==============================] - 484s 28ms/step - loss: 0.6297 - val_loss: 0.6277\n",
      "Epoch 3/10\n",
      "17553/17553 [==============================] - 474s 27ms/step - loss: 0.6140 - val_loss: 0.6391\n",
      "Epoch 4/10\n",
      "17553/17553 [==============================] - 467s 27ms/step - loss: 0.6061 - val_loss: 0.6243\n",
      "Epoch 5/10\n",
      "17553/17553 [==============================] - 475s 27ms/step - loss: 0.5971 - val_loss: 0.6132\n",
      "Epoch 6/10\n",
      "17553/17553 [==============================] - 479s 27ms/step - loss: 0.5959 - val_loss: 0.6317\n",
      "Epoch 7/10\n",
      "17553/17553 [==============================] - 478s 27ms/step - loss: 0.5912 - val_loss: 0.6021\n",
      "Epoch 8/10\n",
      "17553/17553 [==============================] - 458s 26ms/step - loss: 0.5871 - val_loss: 0.6459\n",
      "Epoch 9/10\n",
      "17553/17553 [==============================] - 449s 26ms/step - loss: 0.5816 - val_loss: 0.7148\n",
      "Epoch 10/10\n",
      "17553/17553 [==============================] - 446s 25ms/step - loss: 0.5791 - val_loss: 0.6049\n",
      "\n",
      " Evaluation on a new fold is now get started ..\n",
      "Train on 17553 samples, validate on 1951 samples\n",
      "Epoch 1/10\n",
      "17553/17553 [==============================] - 470s 27ms/step - loss: 0.6979 - val_loss: 0.7310\n",
      "Epoch 2/10\n",
      "17553/17553 [==============================] - 473s 27ms/step - loss: 0.6403 - val_loss: 0.6337\n",
      "Epoch 3/10\n",
      "17553/17553 [==============================] - 448s 26ms/step - loss: 0.6193 - val_loss: 0.6122\n",
      "Epoch 4/10\n",
      "17553/17553 [==============================] - 438s 25ms/step - loss: 0.6107 - val_loss: 0.6223\n",
      "Epoch 5/10\n",
      "17553/17553 [==============================] - 442s 25ms/step - loss: 0.6022 - val_loss: 0.6349\n",
      "Epoch 6/10\n",
      "17553/17553 [==============================] - 440s 25ms/step - loss: 0.5976 - val_loss: 0.6426\n",
      "Epoch 7/10\n",
      "17553/17553 [==============================] - 441s 25ms/step - loss: 0.5921 - val_loss: 0.6769\n",
      "Epoch 8/10\n",
      "17553/17553 [==============================] - 444s 25ms/step - loss: 0.5869 - val_loss: 0.6330\n",
      "Epoch 9/10\n",
      "17553/17553 [==============================] - 438s 25ms/step - loss: 0.5848 - val_loss: 0.5954\n",
      "Epoch 10/10\n",
      "17553/17553 [==============================] - 436s 25ms/step - loss: 0.5824 - val_loss: 0.6766\n",
      "\n",
      " Evaluation on a new fold is now get started ..\n",
      "Train on 17553 samples, validate on 1951 samples\n",
      "Epoch 1/10\n",
      "17553/17553 [==============================] - 452s 26ms/step - loss: 0.6779 - val_loss: 0.6671\n",
      "Epoch 2/10\n",
      "17553/17553 [==============================] - 437s 25ms/step - loss: 0.6325 - val_loss: 0.6425\n",
      "Epoch 3/10\n",
      "17553/17553 [==============================] - 438s 25ms/step - loss: 0.6132 - val_loss: 0.6174\n",
      "Epoch 4/10\n",
      "17553/17553 [==============================] - 456s 26ms/step - loss: 0.6063 - val_loss: 0.6339\n",
      "Epoch 5/10\n",
      "17553/17553 [==============================] - 455s 26ms/step - loss: 0.6004 - val_loss: 0.6131\n",
      "Epoch 6/10\n",
      "17553/17553 [==============================] - 455s 26ms/step - loss: 0.5967 - val_loss: 0.6696\n",
      "Epoch 7/10\n",
      "17553/17553 [==============================] - 456s 26ms/step - loss: 0.5894 - val_loss: 0.6813\n",
      "Epoch 8/10\n",
      "17553/17553 [==============================] - 462s 26ms/step - loss: 0.5833 - val_loss: 0.7826\n",
      "Epoch 9/10\n",
      "17553/17553 [==============================] - 462s 26ms/step - loss: 0.5913 - val_loss: 0.8362\n",
      "Epoch 10/10\n",
      "17553/17553 [==============================] - 459s 26ms/step - loss: 0.5903 - val_loss: 0.6139\n",
      "\n",
      " Evaluation on a new fold is now get started ..\n",
      "Train on 17553 samples, validate on 1951 samples\n",
      "Epoch 1/10\n",
      "17553/17553 [==============================] - 467s 27ms/step - loss: 0.6667 - val_loss: 0.6218\n",
      "Epoch 2/10\n",
      "17553/17553 [==============================] - 460s 26ms/step - loss: 0.6259 - val_loss: 0.6203\n",
      "Epoch 3/10\n",
      "17553/17553 [==============================] - 449s 26ms/step - loss: 0.6113 - val_loss: 0.6692\n",
      "Epoch 4/10\n",
      "17553/17553 [==============================] - 439s 25ms/step - loss: 0.6048 - val_loss: 0.6291\n",
      "Epoch 5/10\n",
      "17553/17553 [==============================] - 450s 26ms/step - loss: 0.5973 - val_loss: 0.5962\n",
      "Epoch 6/10\n",
      "17553/17553 [==============================] - 438s 25ms/step - loss: 0.5940 - val_loss: 0.6314\n",
      "Epoch 7/10\n",
      "17553/17553 [==============================] - 444s 25ms/step - loss: 0.5930 - val_loss: 0.6547\n",
      "Epoch 8/10\n",
      "17553/17553 [==============================] - 439s 25ms/step - loss: 0.5867 - val_loss: 0.5875\n",
      "Epoch 9/10\n",
      "17553/17553 [==============================] - 438s 25ms/step - loss: 0.5820 - val_loss: 0.6222\n",
      "Epoch 10/10\n",
      "17553/17553 [==============================] - 438s 25ms/step - loss: 0.5798 - val_loss: 0.6062\n",
      "\n",
      " Evaluation on a new fold is now get started ..\n",
      "Train on 17554 samples, validate on 1950 samples\n",
      "Epoch 1/10\n",
      "17554/17554 [==============================] - 459s 26ms/step - loss: 0.6721 - val_loss: 0.6526\n",
      "Epoch 2/10\n",
      "17554/17554 [==============================] - 448s 26ms/step - loss: 0.6231 - val_loss: 0.6459\n",
      "Epoch 3/10\n",
      "17554/17554 [==============================] - 439s 25ms/step - loss: 0.6161 - val_loss: 0.7315\n",
      "Epoch 4/10\n",
      "17554/17554 [==============================] - 437s 25ms/step - loss: 0.6106 - val_loss: 0.6158\n",
      "Epoch 5/10\n",
      "17554/17554 [==============================] - 438s 25ms/step - loss: 0.6006 - val_loss: 0.6732\n",
      "Epoch 6/10\n",
      "17554/17554 [==============================] - 437s 25ms/step - loss: 0.5966 - val_loss: 0.6260\n",
      "Epoch 7/10\n",
      "17554/17554 [==============================] - 482s 27ms/step - loss: 0.5893 - val_loss: 0.6117\n",
      "Epoch 8/10\n",
      "17554/17554 [==============================] - 471s 27ms/step - loss: 0.5864 - val_loss: 0.6607\n",
      "Epoch 9/10\n",
      "17554/17554 [==============================] - 450s 26ms/step - loss: 0.5829 - val_loss: 0.6481\n",
      "Epoch 10/10\n",
      "17554/17554 [==============================] - 465s 26ms/step - loss: 0.5826 - val_loss: 0.7110\n",
      "\n",
      " Evaluation on a new fold is now get started ..\n",
      "Train on 17554 samples, validate on 1950 samples\n",
      "Epoch 1/10\n",
      "17554/17554 [==============================] - 502s 29ms/step - loss: 0.6869 - val_loss: 0.6837\n",
      "Epoch 2/10\n",
      "17554/17554 [==============================] - 474s 27ms/step - loss: 0.6501 - val_loss: 0.6667\n",
      "Epoch 3/10\n",
      "17554/17554 [==============================] - 468s 27ms/step - loss: 0.6269 - val_loss: 0.6820\n",
      "Epoch 4/10\n",
      "17554/17554 [==============================] - 679s 39ms/step - loss: 0.6138 - val_loss: 0.6888\n",
      "Epoch 5/10\n",
      "17554/17554 [==============================] - 894s 51ms/step - loss: 0.6071 - val_loss: 0.6368\n",
      "Epoch 6/10\n",
      "17554/17554 [==============================] - 966s 55ms/step - loss: 0.5990 - val_loss: 0.7006\n",
      "Epoch 7/10\n",
      "17554/17554 [==============================] - 895s 51ms/step - loss: 0.5965 - val_loss: 0.6526\n",
      "Epoch 8/10\n",
      "17554/17554 [==============================] - 913s 52ms/step - loss: 0.5888 - val_loss: 0.6432\n",
      "Epoch 9/10\n",
      "17554/17554 [==============================] - 873s 50ms/step - loss: 0.5842 - val_loss: 0.7199\n",
      "Epoch 10/10\n",
      "17554/17554 [==============================] - 578s 33ms/step - loss: 0.5839 - val_loss: 0.6161\n",
      "\n",
      " Evaluation on a new fold is now get started ..\n",
      "Train on 17554 samples, validate on 1950 samples\n",
      "Epoch 1/10\n",
      "17554/17554 [==============================] - 476s 27ms/step - loss: 0.6693 - val_loss: 0.6547\n",
      "Epoch 2/10\n",
      "17554/17554 [==============================] - 519s 30ms/step - loss: 0.6284 - val_loss: 0.6420\n",
      "Epoch 3/10\n",
      "17554/17554 [==============================] - 511s 29ms/step - loss: 0.6120 - val_loss: 0.6392\n",
      "Epoch 4/10\n",
      "17554/17554 [==============================] - 510s 29ms/step - loss: 0.6004 - val_loss: 0.6247\n",
      "Epoch 5/10\n",
      "17554/17554 [==============================] - 484s 28ms/step - loss: 0.5977 - val_loss: 0.6214\n",
      "Epoch 6/10\n",
      "17554/17554 [==============================] - 505s 29ms/step - loss: 0.5935 - val_loss: 0.6060\n",
      "Epoch 7/10\n",
      "17554/17554 [==============================] - 479s 27ms/step - loss: 0.5932 - val_loss: 0.5999\n",
      "Epoch 8/10\n",
      "17554/17554 [==============================] - 464s 26ms/step - loss: 0.5853 - val_loss: 0.6086\n",
      "Epoch 9/10\n",
      "17554/17554 [==============================] - 444s 25ms/step - loss: 0.5812 - val_loss: 0.6587\n",
      "Epoch 10/10\n",
      "17554/17554 [==============================] - 443s 25ms/step - loss: 0.5824 - val_loss: 0.6123\n",
      "\n",
      " Evaluation on a new fold is now get started ..\n"
     ]
    },
    {
     "name": "stdout",
     "output_type": "stream",
     "text": [
      "Train on 17554 samples, validate on 1950 samples\n",
      "Epoch 1/10\n",
      "17554/17554 [==============================] - 449s 26ms/step - loss: 0.6573 - val_loss: 0.7338\n",
      "Epoch 2/10\n",
      "17554/17554 [==============================] - 456s 26ms/step - loss: 0.6223 - val_loss: 0.6069\n",
      "Epoch 3/10\n",
      "17554/17554 [==============================] - 456s 26ms/step - loss: 0.6068 - val_loss: 0.6399\n",
      "Epoch 4/10\n",
      "17554/17554 [==============================] - 469s 27ms/step - loss: 0.6026 - val_loss: 0.6051\n",
      "Epoch 5/10\n",
      "17554/17554 [==============================] - 450s 26ms/step - loss: 0.5953 - val_loss: 0.6039\n",
      "Epoch 6/10\n",
      "17554/17554 [==============================] - 481s 27ms/step - loss: 0.5919 - val_loss: 0.6263\n",
      "Epoch 7/10\n",
      "17554/17554 [==============================] - 548s 31ms/step - loss: 0.5865 - val_loss: 0.6410\n",
      "Epoch 8/10\n",
      "17554/17554 [==============================] - 654s 37ms/step - loss: 0.5844 - val_loss: 0.6071\n",
      "Epoch 9/10\n",
      "17554/17554 [==============================] - 772s 44ms/step - loss: 0.5796 - val_loss: 0.6474\n",
      "Epoch 10/10\n",
      "17554/17554 [==============================] - 809s 46ms/step - loss: 0.5806 - val_loss: 0.5941\n",
      "\n",
      " Evaluation on a new fold is now get started ..\n",
      "Train on 17554 samples, validate on 1950 samples\n",
      "Epoch 1/10\n",
      "17554/17554 [==============================] - 778s 44ms/step - loss: 0.6664 - val_loss: 0.6637\n",
      "Epoch 2/10\n",
      "17554/17554 [==============================] - 807s 46ms/step - loss: 0.6215 - val_loss: 0.6218\n",
      "Epoch 3/10\n",
      "17554/17554 [==============================] - 774s 44ms/step - loss: 0.6086 - val_loss: 0.6455\n",
      "Epoch 4/10\n",
      "17554/17554 [==============================] - 741s 42ms/step - loss: 0.5982 - val_loss: 0.6363\n",
      "Epoch 5/10\n",
      "17554/17554 [==============================] - 670s 38ms/step - loss: 0.5938 - val_loss: 0.6607\n",
      "Epoch 6/10\n",
      "17554/17554 [==============================] - 448s 25ms/step - loss: 0.5893 - val_loss: 0.6207\n",
      "Epoch 7/10\n",
      "17554/17554 [==============================] - 444s 25ms/step - loss: 0.5867 - val_loss: 0.6332\n",
      "Epoch 8/10\n",
      "17554/17554 [==============================] - 442s 25ms/step - loss: 0.5838 - val_loss: 0.6142\n",
      "Epoch 9/10\n",
      "17554/17554 [==============================] - 440s 25ms/step - loss: 0.5791 - val_loss: 0.7926\n",
      "Epoch 10/10\n",
      "17554/17554 [==============================] - 439s 25ms/step - loss: 0.5773 - val_loss: 0.6273\n",
      "\n",
      " Evaluation on a new fold is now get started ..\n",
      "Train on 17554 samples, validate on 1950 samples\n",
      "Epoch 1/10\n",
      "17554/17554 [==============================] - 447s 25ms/step - loss: 0.6709 - val_loss: 0.7465\n",
      "Epoch 2/10\n",
      "17554/17554 [==============================] - 440s 25ms/step - loss: 0.6314 - val_loss: 0.6442\n",
      "Epoch 3/10\n",
      "17554/17554 [==============================] - 441s 25ms/step - loss: 0.6125 - val_loss: 0.6202\n",
      "Epoch 4/10\n",
      "17554/17554 [==============================] - 446s 25ms/step - loss: 0.6112 - val_loss: 0.6261\n",
      "Epoch 5/10\n",
      "17554/17554 [==============================] - 444s 25ms/step - loss: 0.6030 - val_loss: 0.5937\n",
      "Epoch 6/10\n",
      "17554/17554 [==============================] - 436s 25ms/step - loss: 0.5962 - val_loss: 0.6821\n",
      "Epoch 7/10\n",
      "17554/17554 [==============================] - 437s 25ms/step - loss: 0.5917 - val_loss: 0.7824\n",
      "Epoch 8/10\n",
      "17554/17554 [==============================] - 436s 25ms/step - loss: 0.5896 - val_loss: 0.6313\n",
      "Epoch 9/10\n",
      "17554/17554 [==============================] - 436s 25ms/step - loss: 0.5863 - val_loss: 0.6015\n",
      "Epoch 10/10\n",
      "17554/17554 [==============================] - 435s 25ms/step - loss: 0.5820 - val_loss: 0.6010\n"
     ]
    }
   ],
   "source": [
    "seq_att_model.tune_and_eval(X, y, label_dict)"
   ]
  },
  {
   "cell_type": "markdown",
   "metadata": {},
   "source": [
    "### Confussion matrix"
   ]
  },
  {
   "cell_type": "code",
   "execution_count": 11,
   "metadata": {
    "scrolled": false
   },
   "outputs": [
    {
     "name": "stderr",
     "output_type": "stream",
     "text": [
      "10-Jun-22 10:24:56 - font.family must be one of (serif, sans-serif, cursive, monospace) when text.usetex is True. serif will be used by default.\n",
      "10-Jun-22 10:25:01 - font.family must be one of (serif, sans-serif, cursive, monospace) when text.usetex is True. serif will be used by default.\n",
      "10-Jun-22 10:25:01 - font.family must be one of (serif, sans-serif, cursive, monospace) when text.usetex is True. serif will be used by default.\n",
      "10-Jun-22 10:25:35 - font.family must be one of (serif, sans-serif, cursive, monospace) when text.usetex is True. serif will be used by default.\n",
      "10-Jun-22 10:25:35 - font.family must be one of (serif, sans-serif, cursive, monospace) when text.usetex is True. serif will be used by default.\n"
     ]
    },
    {
     "data": {
      "image/png": "[encoded data removed]",
      "text/plain": [
       "<Figure size 432x288 with 2 Axes>"
      ]
     },
     "metadata": {
      "needs_background": "light"
     },
     "output_type": "display_data"
    },
    {
     "data": {
      "text/plain": [
       "<Figure size 432x288 with 0 Axes>"
      ]
     },
     "metadata": {},
     "output_type": "display_data"
    }
   ],
   "source": [
    "[labels_alphanum, conf, p_micro, r_micro, f1_micro, p_macro, r_macro, f1_macro, accuracy, roc_auc, (loss_values, val_loss_values)]=pickle.load(open('../crohns_disease/results/CNNclassifier/all_results.pkl', \"rb\"))\n",
    "#labels_alphanum.reverse()\n",
    "create_mat_plot(conf, labels_alphanum, '', '../crohns_disease/results/CNNclassifier/confusion_matrix', 'Predicted labels' ,'Actual labels', cmap='Purples', filetype='pdf', rx=80, ry=0, font_s=15)"
   ]
  },
  {
   "cell_type": "code",
   "execution_count": 25,
   "metadata": {},
   "outputs": [],
   "source": [
    "pickle.dump(X, open('{}/X.pkl'.format(opt.out_dir), 'wb'))\n",
    "pickle.dump(y, open('{}/y.pkl'.format(opt.out_dir), 'wb'))"
   ]
  }
 ],
 "metadata": {
  "kernelspec": {
   "display_name": "Python 3 (ipykernel)",
   "language": "python",
   "name": "python3"
  },
  "language_info": {
   "codemirror_mode": {
    "name": "ipython",
    "version": 3
   },
   "file_extension": ".py",
   "mimetype": "text/x-python",
   "name": "python",
   "nbconvert_exporter": "python",
   "pygments_lexer": "ipython3",
   "version": "3.5.10"
  }
 },
 "nbformat": 4,
 "nbformat_minor": 4
}
