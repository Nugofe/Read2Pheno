{
 "cells": [
  {
   "cell_type": "code",
   "execution_count": 1,
   "metadata": {
    "scrolled": true
   },
   "outputs": [
    {
     "name": "stderr",
     "output_type": "stream",
     "text": [
      "Using TensorFlow backend.\n",
      "/home/nuria/.local/share/virtualenvs/Read2Pheno-YfFcwwiN/lib/python3.5/site-packages/tensorflow/python/framework/dtypes.py:523: FutureWarning: Passing (type, 1) or '1type' as a synonym of type is deprecated; in a future version of numpy, it will be understood as (type, (1,)) / '(1,)type'.\n",
      "  _np_qint8 = np.dtype([(\"qint8\", np.int8, 1)])\n",
      "/home/nuria/.local/share/virtualenvs/Read2Pheno-YfFcwwiN/lib/python3.5/site-packages/tensorflow/python/framework/dtypes.py:524: FutureWarning: Passing (type, 1) or '1type' as a synonym of type is deprecated; in a future version of numpy, it will be understood as (type, (1,)) / '(1,)type'.\n",
      "  _np_quint8 = np.dtype([(\"quint8\", np.uint8, 1)])\n",
      "/home/nuria/.local/share/virtualenvs/Read2Pheno-YfFcwwiN/lib/python3.5/site-packages/tensorflow/python/framework/dtypes.py:525: FutureWarning: Passing (type, 1) or '1type' as a synonym of type is deprecated; in a future version of numpy, it will be understood as (type, (1,)) / '(1,)type'.\n",
      "  _np_qint16 = np.dtype([(\"qint16\", np.int16, 1)])\n",
      "/home/nuria/.local/share/virtualenvs/Read2Pheno-YfFcwwiN/lib/python3.5/site-packages/tensorflow/python/framework/dtypes.py:526: FutureWarning: Passing (type, 1) or '1type' as a synonym of type is deprecated; in a future version of numpy, it will be understood as (type, (1,)) / '(1,)type'.\n",
      "  _np_quint16 = np.dtype([(\"quint16\", np.uint16, 1)])\n",
      "/home/nuria/.local/share/virtualenvs/Read2Pheno-YfFcwwiN/lib/python3.5/site-packages/tensorflow/python/framework/dtypes.py:527: FutureWarning: Passing (type, 1) or '1type' as a synonym of type is deprecated; in a future version of numpy, it will be understood as (type, (1,)) / '(1,)type'.\n",
      "  _np_qint32 = np.dtype([(\"qint32\", np.int32, 1)])\n",
      "/home/nuria/.local/share/virtualenvs/Read2Pheno-YfFcwwiN/lib/python3.5/site-packages/tensorflow/python/framework/dtypes.py:532: FutureWarning: Passing (type, 1) or '1type' as a synonym of type is deprecated; in a future version of numpy, it will be understood as (type, (1,)) / '(1,)type'.\n",
      "  np_resource = np.dtype([(\"resource\", np.ubyte, 1)])\n"
     ]
    }
   ],
   "source": [
    "import pickle\n",
    "import keras\n",
    "import numpy as np\n",
    "import tensorflow as tf\n",
    "from sequence_attention import DataGeneratorPickle, SeqAttModel\n",
    "from sequence_attention.utils import preprocess_data_pickle, select_data_pickle \n",
    "from sequence_attention.SeqVisualUnit import create_mat_plot\n",
    "from config import Config"
   ]
  },
  {
   "cell_type": "markdown",
   "metadata": {},
   "source": [
    "### Preprocess the data\n",
    "\n",
    "There are three different ways to prepare the data: \n",
    "\n",
    "2. convert each fna file to a pickle file with a python dictionary data structure (key is the unique sequence identifier and value is the actual sequence). Then the data generator can load a pickle file and look up for a read and construct a batch of data.\n",
    "3. The fastest way is, of course, training and testing your model without using the data generator. Instead, permitted by the computer memory, users can load all the training data in memory and directly fit the model. In this way, there will be no additional I/O process. \n",
    "\n",
    "When designing this tool, we don't make any assumption on the computer memory at the user's disposal, therefore, this demo focuses on the second preprocessing method since it covers the most use cases. But if the users do have enough memory, they are more than welcome to fit the model without the generator function."
   ]
  },
  {
   "cell_type": "code",
   "execution_count": 2,
   "metadata": {},
   "outputs": [],
   "source": [
    "opt = Config() # cargar configuración\n",
    "labels=['Not-CD', 'CD']"
   ]
  },
  {
   "cell_type": "code",
   "execution_count": 4,
   "metadata": {},
   "outputs": [
    {
     "name": "stderr",
     "output_type": "stream",
     "text": [
      "12-Jun-22 21:50:02 - Processing raw data: 0.0% completed.\n",
      "12-Jun-22 21:50:03 - Processing raw data: 10.0% completed.\n",
      "12-Jun-22 21:50:03 - Processing raw data: 20.0% completed.\n",
      "12-Jun-22 21:50:03 - Processing raw data: 30.0% completed.\n",
      "12-Jun-22 21:50:04 - Processing raw data: 40.0% completed.\n",
      "12-Jun-22 21:50:04 - Processing raw data: 50.0% completed.\n",
      "12-Jun-22 21:50:04 - Processing raw data: 60.0% completed.\n",
      "12-Jun-22 21:50:05 - Processing raw data: 70.0% completed.\n",
      "12-Jun-22 21:50:05 - Processing raw data: 80.0% completed.\n",
      "12-Jun-22 21:50:05 - Processing raw data: 90.0% completed.\n",
      "12-Jun-22 21:50:06 - Processing raw data: 100.0% completed.\n",
      "12-Jun-22 21:50:06 - Processing raw data: 110.0% completed.\n"
     ]
    }
   ],
   "source": [
    "# segunda técnica de pre-procesado\n",
    "preprocess_data_pickle(opt, labels) # obtener los pickle de CD y Not-CD, label_dict, sample_to_label y read_meta_data"
   ]
  },
  {
   "cell_type": "code",
   "execution_count": 5,
   "metadata": {},
   "outputs": [
    {
     "name": "stdout",
     "output_type": "stream",
     "text": [
      "sequence_list   done\n",
      "sequence_list_selected   done\n"
     ]
    }
   ],
   "source": [
    "select_data_pickle(opt, labels) # obtener sequence_list y sequence_list_selected"
   ]
  },
  {
   "cell_type": "markdown",
   "metadata": {},
   "source": [
    "### Load metadata and initialize the deep learning model"
   ]
  },
  {
   "cell_type": "code",
   "execution_count": 3,
   "metadata": {},
   "outputs": [
    {
     "name": "stderr",
     "output_type": "stream",
     "text": [
      "12-Jun-22 21:55:56 - Model initialized.\n"
     ]
    }
   ],
   "source": [
    "import pickle\n",
    "\n",
    "# cargar os pickle cos datos pre-procesados no paso anterior\n",
    "label_dict = pickle.load(open('{}/label_dict.pkl'.format(opt.out_dir), 'rb'))\n",
    "sample_to_label, read_meta_data = pickle.load(open('{}/meta_data.pkl'.format(opt.out_dir), 'rb'))\n",
    "#sequence_list = pickle.load(open('{}/sequence_list.pkl'.format(opt.out_dir), 'rb'))\n",
    "sequence_list = pickle.load(open('{}/sequence_list_selected.pkl'.format(opt.out_dir), 'rb'))\n",
    "\n",
    "# crear o modelo\n",
    "seq_att_model = SeqAttModel(opt)"
   ]
  },
  {
   "cell_type": "code",
   "execution_count": 5,
   "metadata": {},
   "outputs": [
    {
     "data": {
      "text/plain": [
       "{'CD': 1, 'Not-CD': 0}"
      ]
     },
     "execution_count": 5,
     "metadata": {},
     "output_type": "execute_result"
    }
   ],
   "source": [
    "label_dict # encoded labels"
   ]
  },
  {
   "cell_type": "code",
   "execution_count": 6,
   "metadata": {},
   "outputs": [
    {
     "data": {
      "text/plain": [
       "1359"
      ]
     },
     "execution_count": 6,
     "metadata": {},
     "output_type": "execute_result"
    }
   ],
   "source": [
    "#sample_to_label # basicamente meta_data.csv\n",
    "len(sample_to_label)"
   ]
  },
  {
   "cell_type": "code",
   "execution_count": 6,
   "metadata": {},
   "outputs": [],
   "source": [
    "#read_meta_data # dict cos ids das secuencias de cada mostra (id mostra: [ids secuencias da mostra])\n",
    "#list(read_meta_data.keys())[0]   # primeira mostra\n",
    "#list(read_meta_data.values())[0] # secuencias da primeira mostra"
   ]
  },
  {
   "cell_type": "code",
   "execution_count": 7,
   "metadata": {
    "scrolled": true
   },
   "outputs": [
    {
     "name": "stdout",
     "output_type": "stream",
     "text": [
      "len(num_samples) : 40\n",
      "Counter({'../crohns_disease/results/CNNclassifier/CD/ERR1369874.pkl': 500, '../crohns_disease/results/CNNclassifier/CD/ERR1368934.pkl': 500, '../crohns_disease/results/CNNclassifier/CD/ERR1370073.pkl': 500, '../crohns_disease/results/CNNclassifier/Not-CD/ERR1369927.pkl': 500, '../crohns_disease/results/CNNclassifier/Not-CD/ERR1369914.pkl': 500, '../crohns_disease/results/CNNclassifier/CD/ERR1369704.pkl': 500, '../crohns_disease/results/CNNclassifier/Not-CD/ERR1369339.pkl': 500, '../crohns_disease/results/CNNclassifier/CD/ERR1370149.pkl': 500, '../crohns_disease/results/CNNclassifier/Not-CD/ERR1369669.pkl': 500, '../crohns_disease/results/CNNclassifier/CD/ERR1370174.pkl': 500, '../crohns_disease/results/CNNclassifier/CD/ERR1369156.pkl': 500, '../crohns_disease/results/CNNclassifier/Not-CD/ERR1368923.pkl': 500, '../crohns_disease/results/CNNclassifier/CD/ERR1369596.pkl': 500, '../crohns_disease/results/CNNclassifier/Not-CD/ERR1369304.pkl': 500, '../crohns_disease/results/CNNclassifier/CD/ERR1369302.pkl': 500, '../crohns_disease/results/CNNclassifier/Not-CD/ERR1369419.pkl': 500, '../crohns_disease/results/CNNclassifier/CD/ERR1369395.pkl': 500, '../crohns_disease/results/CNNclassifier/CD/ERR1369779.pkl': 500, '../crohns_disease/results/CNNclassifier/Not-CD/ERR1369439.pkl': 500, '../crohns_disease/results/CNNclassifier/Not-CD/ERR1369607.pkl': 500, '../crohns_disease/results/CNNclassifier/CD/ERR1370220.pkl': 500, '../crohns_disease/results/CNNclassifier/Not-CD/ERR1369109.pkl': 500, '../crohns_disease/results/CNNclassifier/Not-CD/ERR1370155.pkl': 500, '../crohns_disease/results/CNNclassifier/CD/ERR1369536.pkl': 500, '../crohns_disease/results/CNNclassifier/CD/ERR1369834.pkl': 500, '../crohns_disease/results/CNNclassifier/CD/ERR1369416.pkl': 500, '../crohns_disease/results/CNNclassifier/CD/ERR1370167.pkl': 500, '../crohns_disease/results/CNNclassifier/CD/ERR1369859.pkl': 500, '../crohns_disease/results/CNNclassifier/Not-CD/ERR1370043.pkl': 500, '../crohns_disease/results/CNNclassifier/Not-CD/ERR1369412.pkl': 500, '../crohns_disease/results/CNNclassifier/Not-CD/ERR1368961.pkl': 500, '../crohns_disease/results/CNNclassifier/CD/ERR1369149.pkl': 500, '../crohns_disease/results/CNNclassifier/CD/ERR1369228.pkl': 500, '../crohns_disease/results/CNNclassifier/Not-CD/ERR1369323.pkl': 500, '../crohns_disease/results/CNNclassifier/Not-CD/ERR1370205.pkl': 500, '../crohns_disease/results/CNNclassifier/Not-CD/ERR1369665.pkl': 500, '../crohns_disease/results/CNNclassifier/Not-CD/ERR1368921.pkl': 500, '../crohns_disease/results/CNNclassifier/Not-CD/ERR1369868.pkl': 500, '../crohns_disease/results/CNNclassifier/CD/ERR1369717.pkl': 500, '../crohns_disease/results/CNNclassifier/Not-CD/ERR1368998.pkl': 4})\n"
     ]
    }
   ],
   "source": [
    "#sequence_list[0:20] # secuencias das mostras (.pickle da mostra, identificador da secuencia)\n",
    "\n",
    "from collections import Counter\n",
    "num_samples = Counter([x for (x,y) in sequence_list])\n",
    "\n",
    "print(\"len(num_samples) : \" + str(len(num_samples)))\n",
    "print(num_samples)"
   ]
  },
  {
   "cell_type": "code",
   "execution_count": null,
   "metadata": {},
   "outputs": [],
   "source": [
    "# mostra en formato .pickle (identificador da secuencia, secuencia sen codificar)\n",
    "sample_pickle = pickle.load(open('../crohns_disease/results/CNNclassifier/Not-CD/ERR1368889.pkl'.format(opt.out_dir), 'rb'))\n",
    "sample_pickle"
   ]
  },
  {
   "cell_type": "code",
   "execution_count": null,
   "metadata": {},
   "outputs": [],
   "source": [
    "seq_att_model.model.summary() "
   ]
  },
  {
   "cell_type": "markdown",
   "metadata": {},
   "source": [
    "### Prepare the data generator for training and testing"
   ]
  },
  {
   "cell_type": "code",
   "execution_count": 9,
   "metadata": {},
   "outputs": [],
   "source": [
    "generator = DataGeneratorPickle(sequence_list, sample_to_label, label_dict, \n",
    "                                   dim=(opt.SEQLEN,opt.BASENUM), batch_size=opt.batch_size, shuffle=opt.shuffle)"
   ]
  },
  {
   "cell_type": "code",
   "execution_count": 10,
   "metadata": {},
   "outputs": [],
   "source": [
    "X, y = generator.getalldata() # X = secuencias one-hot encoded, y = labels encoded"
   ]
  },
  {
   "cell_type": "code",
   "execution_count": 7,
   "metadata": {},
   "outputs": [
    {
     "data": {
      "text/plain": [
       "(19504, 100, 4)"
      ]
     },
     "execution_count": 7,
     "metadata": {},
     "output_type": "execute_result"
    }
   ],
   "source": [
    "#X\n",
    "X.shape  # 500*39+4 reads, 100 sequence len, 4 bases"
   ]
  },
  {
   "cell_type": "code",
   "execution_count": 8,
   "metadata": {},
   "outputs": [
    {
     "data": {
      "text/plain": [
       "(19504,)"
      ]
     },
     "execution_count": 8,
     "metadata": {},
     "output_type": "execute_result"
    }
   ],
   "source": [
    "#y\n",
    "y.shape # 500*39+4"
   ]
  },
  {
   "cell_type": "markdown",
   "metadata": {},
   "source": [
    "### Train and evaluate the model with Cross Validation"
   ]
  },
  {
   "cell_type": "code",
   "execution_count": 9,
   "metadata": {},
   "outputs": [
    {
     "name": "stdout",
     "output_type": "stream",
     "text": [
      "\n",
      " Evaluation on a new fold is now get started ..\n",
      "Train on 17553 samples, validate on 1951 samples\n",
      "Epoch 1/10\n",
      "17553/17553 [==============================] - 925s 53ms/step - loss: 0.6791 - val_loss: 0.6488\n",
      "Epoch 2/10\n",
      "17553/17553 [==============================] - 786s 45ms/step - loss: 0.6376 - val_loss: 0.6412\n",
      "Epoch 3/10\n",
      "17553/17553 [==============================] - 477s 27ms/step - loss: 0.6192 - val_loss: 0.6414\n",
      "Epoch 4/10\n",
      "17553/17553 [==============================] - 473s 27ms/step - loss: 0.6080 - val_loss: 0.6712\n",
      "Epoch 5/10\n",
      "17553/17553 [==============================] - 465s 26ms/step - loss: 0.6071 - val_loss: 0.6430\n",
      "Epoch 6/10\n",
      "17553/17553 [==============================] - 446s 25ms/step - loss: 0.5989 - val_loss: 0.6430\n",
      "Epoch 7/10\n",
      "17553/17553 [==============================] - 445s 25ms/step - loss: 0.5926 - val_loss: 0.6228\n",
      "Epoch 8/10\n",
      "17553/17553 [==============================] - 461s 26ms/step - loss: 0.5880 - val_loss: 0.7291\n",
      "Epoch 9/10\n",
      "17553/17553 [==============================] - 466s 27ms/step - loss: 0.5874 - val_loss: 0.5989\n",
      "Epoch 10/10\n",
      "17553/17553 [==============================] - 464s 26ms/step - loss: 0.5869 - val_loss: 0.5943\n",
      "\n",
      " Evaluation on a new fold is now get started ..\n",
      "Train on 17553 samples, validate on 1951 samples\n",
      "Epoch 1/10\n",
      "17553/17553 [==============================] - 481s 27ms/step - loss: 0.6648 - val_loss: 0.6336\n",
      "Epoch 2/10\n",
      "17553/17553 [==============================] - 490s 28ms/step - loss: 0.6270 - val_loss: 0.6509\n",
      "Epoch 3/10\n",
      "17553/17553 [==============================] - 470s 27ms/step - loss: 0.6112 - val_loss: 0.6169\n",
      "Epoch 4/10\n",
      "17553/17553 [==============================] - 478s 27ms/step - loss: 0.6039 - val_loss: 0.6498\n",
      "Epoch 5/10\n",
      "17553/17553 [==============================] - 476s 27ms/step - loss: 0.5986 - val_loss: 0.6366\n",
      "Epoch 6/10\n",
      "17553/17553 [==============================] - 476s 27ms/step - loss: 0.5916 - val_loss: 0.7431\n",
      "Epoch 7/10\n",
      "17553/17553 [==============================] - 472s 27ms/step - loss: 0.5909 - val_loss: 0.6136\n",
      "Epoch 8/10\n",
      "17553/17553 [==============================] - 479s 27ms/step - loss: 0.5859 - val_loss: 0.7719\n",
      "Epoch 9/10\n",
      "17553/17553 [==============================] - 636s 36ms/step - loss: 0.5873 - val_loss: 0.5861\n",
      "Epoch 10/10\n",
      "17553/17553 [==============================] - 809s 46ms/step - loss: 0.5828 - val_loss: 0.5903\n",
      "\n",
      " Evaluation on a new fold is now get started ..\n",
      "Train on 17553 samples, validate on 1951 samples\n",
      "Epoch 1/10\n",
      "17553/17553 [==============================] - 857s 49ms/step - loss: 0.6682 - val_loss: 0.7026\n",
      "Epoch 2/10\n",
      "17553/17553 [==============================] - 516s 29ms/step - loss: 0.6313 - val_loss: 0.6334\n",
      "Epoch 3/10\n",
      "17553/17553 [==============================] - 442s 25ms/step - loss: 0.6111 - val_loss: 0.6629\n",
      "Epoch 4/10\n",
      "17553/17553 [==============================] - 446s 25ms/step - loss: 0.6070 - val_loss: 0.5970\n",
      "Epoch 5/10\n",
      "17553/17553 [==============================] - 446s 25ms/step - loss: 0.5983 - val_loss: 0.5927\n",
      "Epoch 6/10\n",
      "17553/17553 [==============================] - 446s 25ms/step - loss: 0.5922 - val_loss: 0.6069\n",
      "Epoch 7/10\n",
      "17553/17553 [==============================] - 445s 25ms/step - loss: 0.5901 - val_loss: 0.6095\n",
      "Epoch 8/10\n",
      "17553/17553 [==============================] - 448s 26ms/step - loss: 0.5843 - val_loss: 0.5938\n",
      "Epoch 9/10\n",
      "17553/17553 [==============================] - 447s 25ms/step - loss: 0.5853 - val_loss: 0.5958\n",
      "Epoch 10/10\n",
      "17553/17553 [==============================] - 447s 25ms/step - loss: 0.5822 - val_loss: 0.6160\n",
      "\n",
      " Evaluation on a new fold is now get started ..\n",
      "Train on 17553 samples, validate on 1951 samples\n",
      "Epoch 1/10\n",
      "17553/17553 [==============================] - 478s 27ms/step - loss: 0.6662 - val_loss: 0.7124\n",
      "Epoch 2/10\n",
      "17553/17553 [==============================] - 449s 26ms/step - loss: 0.6266 - val_loss: 0.6271\n",
      "Epoch 3/10\n",
      "17553/17553 [==============================] - 448s 26ms/step - loss: 0.6106 - val_loss: 0.6084\n",
      "Epoch 4/10\n",
      "17553/17553 [==============================] - 448s 26ms/step - loss: 0.6072 - val_loss: 0.6342\n",
      "Epoch 5/10\n",
      "17553/17553 [==============================] - 448s 26ms/step - loss: 0.5970 - val_loss: 0.6097\n",
      "Epoch 6/10\n",
      "17553/17553 [==============================] - 448s 26ms/step - loss: 0.5935 - val_loss: 0.6032\n",
      "Epoch 7/10\n",
      "17553/17553 [==============================] - 448s 26ms/step - loss: 0.5888 - val_loss: 0.5987\n",
      "Epoch 8/10\n",
      "17553/17553 [==============================] - 456s 26ms/step - loss: 0.5877 - val_loss: 0.5981\n",
      "Epoch 9/10\n",
      "17553/17553 [==============================] - 451s 26ms/step - loss: 0.5824 - val_loss: 0.6006\n",
      "Epoch 10/10\n",
      "17553/17553 [==============================] - 476s 27ms/step - loss: 0.5780 - val_loss: 0.6851\n",
      "\n",
      " Evaluation on a new fold is now get started ..\n",
      "Train on 17554 samples, validate on 1950 samples\n",
      "Epoch 1/10\n",
      "17554/17554 [==============================] - 458s 26ms/step - loss: 0.6570 - val_loss: 0.7923\n",
      "Epoch 2/10\n",
      "17554/17554 [==============================] - 447s 25ms/step - loss: 0.6210 - val_loss: 0.6212\n",
      "Epoch 3/10\n",
      "17554/17554 [==============================] - 447s 25ms/step - loss: 0.6067 - val_loss: 0.6749\n",
      "Epoch 4/10\n",
      "17554/17554 [==============================] - 448s 26ms/step - loss: 0.6039 - val_loss: 0.6151\n",
      "Epoch 5/10\n",
      "17554/17554 [==============================] - 456s 26ms/step - loss: 0.5957 - val_loss: 0.6558\n",
      "Epoch 6/10\n",
      "17554/17554 [==============================] - 466s 27ms/step - loss: 0.5867 - val_loss: 0.6045\n",
      "Epoch 7/10\n",
      "17554/17554 [==============================] - 446s 25ms/step - loss: 0.5874 - val_loss: 0.6079\n",
      "Epoch 8/10\n",
      "17554/17554 [==============================] - 458s 26ms/step - loss: 0.5905 - val_loss: 0.6024\n",
      "Epoch 9/10\n",
      "17554/17554 [==============================] - 476s 27ms/step - loss: 0.5831 - val_loss: 0.6632\n",
      "Epoch 10/10\n",
      "17554/17554 [==============================] - 453s 26ms/step - loss: 0.5813 - val_loss: 0.5959\n",
      "\n",
      " Evaluation on a new fold is now get started ..\n",
      "Train on 17554 samples, validate on 1950 samples\n",
      "Epoch 1/10\n",
      "17554/17554 [==============================] - 485s 28ms/step - loss: 0.6709 - val_loss: 0.6484\n",
      "Epoch 2/10\n",
      "17554/17554 [==============================] - 448s 26ms/step - loss: 0.6193 - val_loss: 0.6521\n",
      "Epoch 3/10\n",
      "17554/17554 [==============================] - 450s 26ms/step - loss: 0.6098 - val_loss: 0.6739\n",
      "Epoch 4/10\n",
      "17554/17554 [==============================] - 448s 26ms/step - loss: 0.6030 - val_loss: 0.6521\n",
      "Epoch 5/10\n",
      "17554/17554 [==============================] - 449s 26ms/step - loss: 0.5923 - val_loss: 0.6840\n",
      "Epoch 6/10\n",
      "17554/17554 [==============================] - 450s 26ms/step - loss: 0.5881 - val_loss: 0.6460\n",
      "Epoch 7/10\n",
      "17554/17554 [==============================] - 473s 27ms/step - loss: 0.5835 - val_loss: 0.6298\n",
      "Epoch 8/10\n",
      "17554/17554 [==============================] - 446s 25ms/step - loss: 0.5841 - val_loss: 0.6394\n",
      "Epoch 9/10\n",
      "17554/17554 [==============================] - 447s 25ms/step - loss: 0.5812 - val_loss: 0.6205\n",
      "Epoch 10/10\n",
      "17554/17554 [==============================] - 448s 26ms/step - loss: 0.5779 - val_loss: 0.6457\n",
      "\n",
      " Evaluation on a new fold is now get started ..\n",
      "Train on 17554 samples, validate on 1950 samples\n",
      "Epoch 1/10\n",
      "17554/17554 [==============================] - 474s 27ms/step - loss: 0.6755 - val_loss: 0.6565\n",
      "Epoch 2/10\n",
      "17554/17554 [==============================] - 448s 26ms/step - loss: 0.6260 - val_loss: 0.6386\n",
      "Epoch 3/10\n",
      "17554/17554 [==============================] - 448s 26ms/step - loss: 0.6106 - val_loss: 0.6666\n",
      "Epoch 4/10\n",
      "17554/17554 [==============================] - 450s 26ms/step - loss: 0.6027 - val_loss: 0.6199\n",
      "Epoch 5/10\n",
      "17554/17554 [==============================] - 449s 26ms/step - loss: 0.5949 - val_loss: 0.6336\n",
      "Epoch 6/10\n",
      "17554/17554 [==============================] - 448s 26ms/step - loss: 0.5941 - val_loss: 0.7510\n",
      "Epoch 7/10\n",
      "17554/17554 [==============================] - 447s 25ms/step - loss: 0.5902 - val_loss: 0.6175\n",
      "Epoch 8/10\n",
      "17554/17554 [==============================] - 448s 26ms/step - loss: 0.5872 - val_loss: 0.6135\n",
      "Epoch 9/10\n",
      "17554/17554 [==============================] - 448s 26ms/step - loss: 0.5826 - val_loss: 0.6408\n",
      "Epoch 10/10\n",
      "17554/17554 [==============================] - 449s 26ms/step - loss: 0.5819 - val_loss: 0.6078\n",
      "\n",
      " Evaluation on a new fold is now get started ..\n"
     ]
    },
    {
     "name": "stdout",
     "output_type": "stream",
     "text": [
      "Train on 17554 samples, validate on 1950 samples\n",
      "Epoch 1/10\n",
      "17554/17554 [==============================] - 480s 27ms/step - loss: 0.6687 - val_loss: 0.6556\n",
      "Epoch 2/10\n",
      "17554/17554 [==============================] - 447s 25ms/step - loss: 0.6258 - val_loss: 0.6660\n",
      "Epoch 3/10\n",
      "17554/17554 [==============================] - 445s 25ms/step - loss: 0.6148 - val_loss: 0.6610\n",
      "Epoch 4/10\n",
      "17554/17554 [==============================] - 446s 25ms/step - loss: 0.6049 - val_loss: 0.6167\n",
      "Epoch 5/10\n",
      "17554/17554 [==============================] - 447s 25ms/step - loss: 0.5969 - val_loss: 0.6266\n",
      "Epoch 6/10\n",
      "17554/17554 [==============================] - 444s 25ms/step - loss: 0.5917 - val_loss: 0.6878\n",
      "Epoch 7/10\n",
      "17554/17554 [==============================] - 446s 25ms/step - loss: 0.5885 - val_loss: 0.6167\n",
      "Epoch 8/10\n",
      "17554/17554 [==============================] - 445s 25ms/step - loss: 0.5862 - val_loss: 0.6187\n",
      "Epoch 9/10\n",
      "17554/17554 [==============================] - 447s 25ms/step - loss: 0.5827 - val_loss: 0.6907\n",
      "Epoch 10/10\n",
      "17554/17554 [==============================] - 447s 25ms/step - loss: 0.5820 - val_loss: 0.6178\n",
      "\n",
      " Evaluation on a new fold is now get started ..\n",
      "Train on 17554 samples, validate on 1950 samples\n",
      "Epoch 1/10\n",
      "17554/17554 [==============================] - 469s 27ms/step - loss: 0.6784 - val_loss: 0.7375\n",
      "Epoch 2/10\n",
      "17554/17554 [==============================] - 437s 25ms/step - loss: 0.6381 - val_loss: 0.6778\n",
      "Epoch 3/10\n",
      "17554/17554 [==============================] - 436s 25ms/step - loss: 0.6159 - val_loss: 0.6409\n",
      "Epoch 4/10\n",
      "17554/17554 [==============================] - 436s 25ms/step - loss: 0.6061 - val_loss: 0.6178\n",
      "Epoch 5/10\n",
      "17554/17554 [==============================] - 438s 25ms/step - loss: 0.6018 - val_loss: 0.6145\n",
      "Epoch 6/10\n",
      "17554/17554 [==============================] - 451s 26ms/step - loss: 0.5964 - val_loss: 0.6224\n",
      "Epoch 7/10\n",
      "17554/17554 [==============================] - 449s 26ms/step - loss: 0.5968 - val_loss: 0.6699\n",
      "Epoch 8/10\n",
      "17554/17554 [==============================] - 445s 25ms/step - loss: 0.5941 - val_loss: 0.6022\n",
      "Epoch 9/10\n",
      "17554/17554 [==============================] - 916s 52ms/step - loss: 0.5860 - val_loss: 0.5912\n",
      "Epoch 10/10\n",
      "17554/17554 [==============================] - 981s 56ms/step - loss: 0.5828 - val_loss: 0.6091\n",
      "\n",
      " Evaluation on a new fold is now get started ..\n",
      "Train on 17554 samples, validate on 1950 samples\n",
      "Epoch 1/10\n",
      "17554/17554 [==============================] - 835s 48ms/step - loss: 0.6700 - val_loss: 0.7168\n",
      "Epoch 2/10\n",
      "17554/17554 [==============================] - 441s 25ms/step - loss: 0.6342 - val_loss: 0.6323\n",
      "Epoch 3/10\n",
      "17554/17554 [==============================] - 440s 25ms/step - loss: 0.6170 - val_loss: 0.6564\n",
      "Epoch 4/10\n",
      "17554/17554 [==============================] - 438s 25ms/step - loss: 0.6035 - val_loss: 0.6735\n",
      "Epoch 5/10\n",
      "17554/17554 [==============================] - 442s 25ms/step - loss: 0.6032 - val_loss: 0.6101\n",
      "Epoch 6/10\n",
      "17554/17554 [==============================] - 440s 25ms/step - loss: 0.5974 - val_loss: 0.6170\n",
      "Epoch 7/10\n",
      "17554/17554 [==============================] - 439s 25ms/step - loss: 0.5900 - val_loss: 0.6603\n",
      "Epoch 8/10\n",
      "17554/17554 [==============================] - 438s 25ms/step - loss: 0.5895 - val_loss: 0.6635\n",
      "Epoch 9/10\n",
      "17554/17554 [==============================] - 439s 25ms/step - loss: 0.5855 - val_loss: 0.6516\n",
      "Epoch 10/10\n",
      "17554/17554 [==============================] - 439s 25ms/step - loss: 0.5837 - val_loss: 0.7081\n",
      "labels_num  !!!!!!!!!![0, 1]\n",
      "labels      !!!!!!!!!!['Not-CD', 'CD']\n"
     ]
    }
   ],
   "source": [
    "seq_att_model.tune_and_eval(X, y, labels=['Not-CD', 'CD'])"
   ]
  },
  {
   "cell_type": "markdown",
   "metadata": {},
   "source": [
    "### Confussion matrix"
   ]
  },
  {
   "cell_type": "code",
   "execution_count": 10,
   "metadata": {
    "scrolled": false
   },
   "outputs": [
    {
     "name": "stderr",
     "output_type": "stream",
     "text": [
      "13-Jun-22 11:31:00 - font.family must be one of (serif, sans-serif, cursive, monospace) when text.usetex is True. serif will be used by default.\n",
      "13-Jun-22 11:31:10 - font.family must be one of (serif, sans-serif, cursive, monospace) when text.usetex is True. serif will be used by default.\n",
      "13-Jun-22 11:31:10 - font.family must be one of (serif, sans-serif, cursive, monospace) when text.usetex is True. serif will be used by default.\n",
      "13-Jun-22 11:31:17 - font.family must be one of (serif, sans-serif, cursive, monospace) when text.usetex is True. serif will be used by default.\n",
      "13-Jun-22 11:31:17 - font.family must be one of (serif, sans-serif, cursive, monospace) when text.usetex is True. serif will be used by default.\n"
     ]
    },
    {
     "data": {
      "image/png": "[encoded data removed]",
      "text/plain": [
       "<Figure size 432x288 with 2 Axes>"
      ]
     },
     "metadata": {
      "needs_background": "light"
     },
     "output_type": "display_data"
    },
    {
     "data": {
      "text/plain": [
       "<Figure size 432x288 with 0 Axes>"
      ]
     },
     "metadata": {},
     "output_type": "display_data"
    }
   ],
   "source": [
    "[label_set, conf, p_micro, r_micro, f1_micro, p_macro, r_macro, f1_macro, accuracy, roc_auc, (loss_values, val_loss_values)]=pickle.load(open('../crohns_disease/results/CNNclassifier/all_results.pkl', \"rb\"))\n",
    "create_mat_plot(conf, label_set, '', '../crohns_disease/results/CNNclassifier/confusion_matrix', 'Predicted labels' ,'Actual labels', cmap='Purples', filetype='pdf', rx=80, ry=0, font_s=8)"
   ]
  },
  {
   "cell_type": "code",
   "execution_count": 4,
   "metadata": {},
   "outputs": [],
   "source": [
    "#pickle.dump(X, open('{}/X.pkl'.format(opt.out_dir), 'wb'))\n",
    "#pickle.dump(y, open('{}/y.pkl'.format(opt.out_dir), 'wb'))\n",
    "\n",
    "X=pickle.load(open('{}/X.pkl'.format(opt.out_dir), 'rb'))\n",
    "y=pickle.load(open('{}/y.pkl'.format(opt.out_dir), 'rb'))"
   ]
  }
 ],
 "metadata": {
  "kernelspec": {
   "display_name": "Python 3 (ipykernel)",
   "language": "python",
   "name": "python3"
  },
  "language_info": {
   "codemirror_mode": {
    "name": "ipython",
    "version": 3
   },
   "file_extension": ".py",
   "mimetype": "text/x-python",
   "name": "python",
   "nbconvert_exporter": "python",
   "pygments_lexer": "ipython3",
   "version": "3.5.10"
  }
 },
 "nbformat": 4,
 "nbformat_minor": 4
}
